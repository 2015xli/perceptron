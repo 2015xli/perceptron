{
 "cells": [
  {
   "cell_type": "code",
   "execution_count": null,
   "metadata": {
    "collapsed": true
   },
   "outputs": [],
   "source": [
    "%matplotlib inline\n",
    "\n",
    "n=0\n",
    "\n",
    "def plot_line(X, y, w):\n",
    "    global n\n",
    "    n += 1\n",
    "    fig = plt.figure(n)\n",
    "    ax = fig.gca()  \n",
    "    \n",
    "    ax.scatter(X[:, 0], X[:, 1], c=y, s=30)\n",
    "\n",
    "    a = -w[0] / w[1]\n",
    "    b = -w[2] / w[1]\n",
    "\n",
    "    xmin, xmax = ax.get_xlim()\n",
    "    ymin, ymax = ax.get_ylim()\n",
    "    xx = np.linspace(xmin, xmax)\n",
    "    yy = a * xx + b\n",
    "\n",
    "    # Plot the hyperplane\n",
    "    ax.plot(xx, yy)\n",
    "\n",
    "    ax.set_autoscale_on(False)\n",
    "    ax.axis([xmin, xmax, ymin, ymax])\n",
    "     \n",
    "    return"
   ]
  },
  {
   "cell_type": "code",
   "execution_count": null,
   "metadata": {},
   "outputs": [],
   "source": [
    "######################################### \n",
    "# my implementation of a perceptron\n",
    "\n",
    "import numpy as np\n",
    "import matplotlib.pyplot as plt\n",
    "from sklearn.datasets import make_blobs\n",
    "\n",
    "# we create separable points\n",
    "X, y = make_blobs(n_samples=40, centers=2, random_state=6)\n",
    "\n",
    "# add the constant 1 as the extra dimension to facilitate computating w\n",
    "T = X.tolist()\n",
    "[x.append(1) for x in T]\n",
    "X = np.array(T)\n",
    "\n",
    "# make labels of 0,1 into -1,1, so as to follow perceptron algorithm\n",
    "T = y.tolist()\n",
    "T = [ 1 if x==0 else -1 for x in T]\n",
    "y = np.array(T)\n",
    "\n",
    "# print(X)\n",
    "# print(y)\n",
    "\n",
    "def percep(X, Y, max_iter=10, eta=0.002):\n",
    "    \n",
    "    w = np.ones(len(X[0]))\n",
    "    for t in range(max_iter):\n",
    "        for i, x in enumerate(X):\n",
    "            res = np.dot(X[i], w)*Y[i]\n",
    "            if res <= 0:\n",
    "                # draw the current line, and the misclassified point X[i]\n",
    "                plot_line(X, Y, w); \n",
    "                plt.plot(X[i,0], X[i,1], c=\"red\", marker='+', markersize=15);    \n",
    "\n",
    "                w = w + eta*X[i]*Y[i]\n",
    "            \n",
    "    return w\n",
    "\n",
    "w = percep(X, y)\n",
    "# print(w)\n",
    "\n",
    "plot_line(X, y, w)\n",
    "\n",
    "plt.show()"
   ]
  },
  {
   "cell_type": "code",
   "execution_count": null,
   "metadata": {
    "scrolled": false
   },
   "outputs": [],
   "source": [
    "######################################### \n",
    "# directly invoke sklearn's perceptron\n",
    "\n",
    "import numpy as np\n",
    "import matplotlib.pyplot as plt\n",
    "from sklearn.datasets import make_blobs\n",
    "from sklearn.linear_model import perceptron\n",
    "\n",
    "\n",
    "# we create 40 separable points\n",
    "X, y = make_blobs(n_samples=40, centers=2, random_state=6)\n",
    "\n",
    "# print(X)\n",
    "# print(y)\n",
    "\n",
    "net = perceptron.Perceptron(max_iter=100, eta0=0.002)\n",
    "net.fit(X, y)\n",
    "\n",
    "# intercept + w0*x0 + w1*x1 = 0 , or, x1 = a * x0 + b\n",
    "w = [net.coef_[0,0], net.coef_[0,1], net.intercept_[0]]\n",
    "# print(w)\n",
    "\n",
    "plot_line(X, y, w)\n",
    "\n",
    "plt.show()"
   ]
  }
 ],
 "metadata": {
  "kernelspec": {
   "display_name": "Python 3",
   "language": "python",
   "name": "python3"
  },
  "language_info": {
   "codemirror_mode": {
    "name": "ipython",
    "version": 3
   },
   "file_extension": ".py",
   "mimetype": "text/x-python",
   "name": "python",
   "nbconvert_exporter": "python",
   "pygments_lexer": "ipython3",
   "version": "3.6.2"
  }
 },
 "nbformat": 4,
 "nbformat_minor": 2
}
